{
  "nbformat": 4,
  "nbformat_minor": 0,
  "metadata": {
    "colab": {
      "provenance": []
    },
    "kernelspec": {
      "name": "python3",
      "display_name": "Python 3"
    },
    "language_info": {
      "name": "python"
    }
  },
  "cells": [
    {
      "cell_type": "markdown",
      "source": [
        "**1**"
      ],
      "metadata": {
        "id": "6_Apmu3qEMA_"
      }
    },
    {
      "cell_type": "code",
      "execution_count": null,
      "metadata": {
        "colab": {
          "base_uri": "https://localhost:8080/"
        },
        "id": "UT5eonZI5K_m",
        "outputId": "28520970-0424-4d3b-9410-64ac1d35bf82"
      },
      "outputs": [
        {
          "output_type": "stream",
          "name": "stdout",
          "text": [
            "AKANSHA JOSHI\n",
            "AKANSHA JOSHI\n",
            "AKANSHA JOSHI\n"
          ]
        }
      ],
      "source": [
        "for i in range(3):\n",
        "  print(\"AKANSHA JOSHI\")"
      ]
    },
    {
      "cell_type": "markdown",
      "source": [
        "**2.1**"
      ],
      "metadata": {
        "id": "gdw5_L-dETJf"
      }
    },
    {
      "cell_type": "code",
      "source": [
        "a=10\n",
        "b=220\n",
        "c=23\n",
        "c=a+b\n",
        "print(a,\"+\",b,\"+\",c,\"=\",a+b+c)"
      ],
      "metadata": {
        "colab": {
          "base_uri": "https://localhost:8080/"
        },
        "id": "jZGhj4j2AIkm",
        "outputId": "fadc0a0e-7f97-4038-8870-fa1efc18d899"
      },
      "execution_count": null,
      "outputs": [
        {
          "output_type": "stream",
          "name": "stdout",
          "text": [
            "10 + 220 + 230 = 460\n"
          ]
        }
      ]
    },
    {
      "cell_type": "markdown",
      "source": [
        "**2.2**"
      ],
      "metadata": {
        "id": "5hENgGvjFEsk"
      }
    },
    {
      "cell_type": "code",
      "source": [
        "a=\"hello\"\n",
        "b=\"world\"\n",
        "c=\"ji\"\n",
        "print(a+b+c)"
      ],
      "metadata": {
        "colab": {
          "base_uri": "https://localhost:8080/"
        },
        "id": "_aDP-nJwFChQ",
        "outputId": "4e9dab01-8f62-4bd3-ca94-57311d931e37"
      },
      "execution_count": null,
      "outputs": [
        {
          "output_type": "stream",
          "name": "stdout",
          "text": [
            "helloworldji\n"
          ]
        }
      ]
    },
    {
      "cell_type": "markdown",
      "source": [
        "**4.1**"
      ],
      "metadata": {
        "id": "va_BzH86Fuyi"
      }
    },
    {
      "cell_type": "code",
      "source": [
        "for i in range(1,11,1):\n",
        "  print(7,\"x\",i,\"=\",7*i,\"   \",9,\"x\",i,\"=\",9*i)\n",
        "  print(\"\\n\")\n"
      ],
      "metadata": {
        "colab": {
          "base_uri": "https://localhost:8080/"
        },
        "id": "YY5K4gplFxLo",
        "outputId": "a5714e48-bb2a-4a71-8def-91f7655ef126"
      },
      "execution_count": null,
      "outputs": [
        {
          "output_type": "stream",
          "name": "stdout",
          "text": [
            "7 x 1 = 7     9 x 1 = 9\n",
            "\n",
            "\n",
            "7 x 2 = 14     9 x 2 = 18\n",
            "\n",
            "\n",
            "7 x 3 = 21     9 x 3 = 27\n",
            "\n",
            "\n",
            "7 x 4 = 28     9 x 4 = 36\n",
            "\n",
            "\n",
            "7 x 5 = 35     9 x 5 = 45\n",
            "\n",
            "\n",
            "7 x 6 = 42     9 x 6 = 54\n",
            "\n",
            "\n",
            "7 x 7 = 49     9 x 7 = 63\n",
            "\n",
            "\n",
            "7 x 8 = 56     9 x 8 = 72\n",
            "\n",
            "\n",
            "7 x 9 = 63     9 x 9 = 81\n",
            "\n",
            "\n",
            "7 x 10 = 70     9 x 10 = 90\n",
            "\n",
            "\n"
          ]
        }
      ]
    },
    {
      "cell_type": "markdown",
      "source": [
        "**4.2**"
      ],
      "metadata": {
        "id": "V1YwqIRHFwYk"
      }
    },
    {
      "cell_type": "code",
      "source": [
        "n=int(input(\"enter any integer of your choice\\n\"))\n",
        "for i in range(1,11,1):\n",
        "   print(n,\"x\",i,\"=\",n*i)\n"
      ],
      "metadata": {
        "colab": {
          "base_uri": "https://localhost:8080/"
        },
        "id": "eoEK5ZyvGlYr",
        "outputId": "6d76e7e1-f74e-48fe-cae8-677670e5808c"
      },
      "execution_count": null,
      "outputs": [
        {
          "output_type": "stream",
          "name": "stdout",
          "text": [
            "enter any interger of your choice\n",
            "12\n",
            "12 x 1 = 12\n",
            "12 x 2 = 24\n",
            "12 x 3 = 36\n",
            "12 x 4 = 48\n",
            "12 x 5 = 60\n",
            "12 x 6 = 72\n",
            "12 x 7 = 84\n",
            "12 x 8 = 96\n",
            "12 x 9 = 108\n",
            "12 x 10 = 120\n"
          ]
        }
      ]
    },
    {
      "cell_type": "markdown",
      "source": [
        "**4.3**"
      ],
      "metadata": {
        "id": "pYoNBDthHAUP"
      }
    },
    {
      "cell_type": "code",
      "source": [
        "n=int(input(\"Enter a number\\n\"))\n",
        "sum=0\n",
        "for i in range(1,n+1,1):\n",
        "  sum=sum+i\n",
        "print(sum)\n"
      ],
      "metadata": {
        "id": "bCI-lPYbHCdR",
        "colab": {
          "base_uri": "https://localhost:8080/"
        },
        "outputId": "20936bf4-4766-4f06-8cc3-e93111ec1b04"
      },
      "execution_count": null,
      "outputs": [
        {
          "output_type": "stream",
          "name": "stdout",
          "text": [
            "Enter a number\n",
            "12\n",
            "78\n"
          ]
        }
      ]
    },
    {
      "cell_type": "markdown",
      "source": [
        "**5.1 ,5.2,5.3**"
      ],
      "metadata": {
        "id": "n72FKV3vOg76"
      }
    },
    {
      "cell_type": "code",
      "source": [
        "a=int(input(\"enter first number\\n\"))\n",
        "b=int(input(\"enter second number\\n\"))\n",
        "c=int(input(\"enter third number\\n\"))\n",
        "max_no=max(a,b,c)\n",
        "print(\"max= \",max_no)"
      ],
      "metadata": {
        "colab": {
          "base_uri": "https://localhost:8080/"
        },
        "id": "JWwHfP-tOnI_",
        "outputId": "a6cc1d49-c979-4bf0-ba8a-55cc101dd2b7"
      },
      "execution_count": null,
      "outputs": [
        {
          "output_type": "stream",
          "name": "stdout",
          "text": [
            "enter first number\n",
            "4\n",
            "enter second number\n",
            "6\n",
            "enter third number\n",
            "67\n",
            "max=  67\n"
          ]
        }
      ]
    },
    {
      "cell_type": "code",
      "source": [
        "n=int(input(\"enter first number\\n\"))\n",
        "sum=0;\n",
        "for i in range(1,n+1,1):\n",
        "  if(i%7==0 and i%9==0):\n",
        "    sum=sum+i\n",
        "print(sum)"
      ],
      "metadata": {
        "colab": {
          "base_uri": "https://localhost:8080/"
        },
        "id": "EB8VFyZRRzRT",
        "outputId": "4722171b-3116-4c42-bead-43130c832aad"
      },
      "execution_count": null,
      "outputs": [
        {
          "output_type": "stream",
          "name": "stdout",
          "text": [
            "enter first number\n",
            "63\n",
            "63\n"
          ]
        }
      ]
    },
    {
      "cell_type": "code",
      "source": [
        "n = int(input(\"Enter a No: \"))\n",
        "sum = 0\n",
        "\n",
        "def is_prime(n):\n",
        "    if n <= 1:\n",
        "        return False\n",
        "    for i in range(2, int(n//2) + 1):\n",
        "        if n % i == 0:\n",
        "            return False\n",
        "    return True\n",
        "\n",
        "for i in range(2, n + 1):\n",
        "    if is_prime(i):\n",
        "        sum += i\n",
        "\n",
        "print(sum)\n"
      ],
      "metadata": {
        "colab": {
          "base_uri": "https://localhost:8080/"
        },
        "id": "7O60xiIQS5jQ",
        "outputId": "44df6c54-e382-4f99-d181-7ce6d67b25d4"
      },
      "execution_count": null,
      "outputs": [
        {
          "output_type": "stream",
          "name": "stdout",
          "text": [
            "Enter a No: 10\n",
            "17\n"
          ]
        }
      ]
    },
    {
      "cell_type": "markdown",
      "source": [
        "6.1,**6.2**"
      ],
      "metadata": {
        "id": "yULbSb9XOmlS"
      }
    },
    {
      "cell_type": "code",
      "source": [
        "n=int(input(\"enter first number\\n\"))\n",
        "sum=0\n",
        "for i in range(1,n+1,2):\n",
        "  sum=sum+i\n",
        "print(sum)\n"
      ],
      "metadata": {
        "colab": {
          "base_uri": "https://localhost:8080/"
        },
        "id": "lmeUxuXaWt0n",
        "outputId": "66124ef8-5b21-4f95-cd35-720b6d070e37"
      },
      "execution_count": null,
      "outputs": [
        {
          "output_type": "stream",
          "name": "stdout",
          "text": [
            "enter first number\n",
            "5\n",
            "9\n"
          ]
        }
      ]
    },
    {
      "cell_type": "code",
      "source": [
        "n = int(input(\"Enter a No: \"))\n",
        "sum = 0\n",
        "\n",
        "def is_prime(n):\n",
        "    if n <= 1:\n",
        "        return False\n",
        "    for i in range(2, int(n//2) + 1):\n",
        "        if n % i == 0:\n",
        "            return False\n",
        "    return True\n",
        "\n",
        "for i in range(2, n + 1):\n",
        "    if is_prime(i):\n",
        "        sum += i\n",
        "\n",
        "print(sum)"
      ],
      "metadata": {
        "colab": {
          "base_uri": "https://localhost:8080/"
        },
        "id": "oNtkmf08XcDg",
        "outputId": "fd5da111-f102-40e9-a258-4ec0bd538df3"
      },
      "execution_count": null,
      "outputs": [
        {
          "output_type": "stream",
          "name": "stdout",
          "text": [
            "Enter a No: 10\n",
            "17\n"
          ]
        }
      ]
    }
  ]
}